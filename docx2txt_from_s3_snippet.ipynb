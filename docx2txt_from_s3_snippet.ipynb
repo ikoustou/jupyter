{
 "cells": [
  {
   "cell_type": "code",
   "execution_count": 2,
   "metadata": {},
   "outputs": [
    {
     "name": "stdout",
     "output_type": "stream",
     "text": [
      "DW3235 DW3237 DW2198 FA45475 DW2198 FA45476',\n",
      "\n",
      "'RH4014',\n",
      "\n",
      "'FA45477',\n",
      "\n",
      "'RH4014',\n",
      "\n",
      "'FA45478',\n",
      "\n",
      "'FA45475'\n"
     ]
    }
   ],
   "source": [
    "import boto3\n",
    "import docx2txt\n",
    "s3 = boto3.client('s3')\n",
    "mybucket ='koustoudis1-s3'\n",
    "objectkey = 'word1.docx'\n",
    "objectresponse = s3.get_object(Bucket=mybucket, Key=objectkey)\n",
    "foo=objectresponse['Body'].read()\n",
    "import io\n",
    "f1=io.BytesIO(foo)\n",
    "mytext = docx2txt.process(f1)\n",
    "print(mytext)"
   ]
  },
  {
   "cell_type": "code",
   "execution_count": null,
   "metadata": {},
   "outputs": [],
   "source": []
  }
 ],
 "metadata": {
  "kernelspec": {
   "display_name": "Python 3",
   "language": "python",
   "name": "python3"
  },
  "language_info": {
   "codemirror_mode": {
    "name": "ipython",
    "version": 3
   },
   "file_extension": ".py",
   "mimetype": "text/x-python",
   "name": "python",
   "nbconvert_exporter": "python",
   "pygments_lexer": "ipython3",
   "version": "3.7.0"
  }
 },
 "nbformat": 4,
 "nbformat_minor": 2
}
