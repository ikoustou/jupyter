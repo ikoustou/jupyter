{
 "cells": [
  {
   "cell_type": "markdown",
   "metadata": {},
   "source": [
    "# List of s3 names"
   ]
  },
  {
   "cell_type": "code",
   "execution_count": 2,
   "metadata": {},
   "outputs": [
    {
     "name": "stdout",
     "output_type": "stream",
     "text": [
      "cf-templates-1x5en6e6q9ynd-eu-west-2\n",
      "cloud9-712013512032-sam-deployments-eu-west-2\n",
      "giannis-lambda2\n",
      "gianniswebsite\n",
      "koustoudis1-s3\n"
     ]
    }
   ],
   "source": [
    "import boto3\n",
    "s3 = boto3.resource('s3')\n",
    "for bucket in s3.buckets.all():\n",
    "    print(bucket.name)"
   ]
  },
  {
   "cell_type": "markdown",
   "metadata": {},
   "source": [
    "# List files of s3"
   ]
  },
  {
   "cell_type": "code",
   "execution_count": 3,
   "metadata": {},
   "outputs": [],
   "source": [
    "mybucket = s3.Bucket('koustoudis1-s3')"
   ]
  },
  {
   "cell_type": "code",
   "execution_count": 5,
   "metadata": {},
   "outputs": [
    {
     "name": "stdout",
     "output_type": "stream",
     "text": [
      "s3.ObjectSummary(bucket_name='koustoudis1-s3', key='2018-11-09_Alteryx')\n",
      "s3.ObjectSummary(bucket_name='koustoudis1-s3', key='2018-11-09_Alteryx.json')\n",
      "s3.ObjectSummary(bucket_name='koustoudis1-s3', key='2018-11-10_Alteryx.json')\n",
      "s3.ObjectSummary(bucket_name='koustoudis1-s3', key='2018-11-11_Alteryx.json')\n",
      "s3.ObjectSummary(bucket_name='koustoudis1-s3', key='2018-11-12_Alteryx.json')\n",
      "s3.ObjectSummary(bucket_name='koustoudis1-s3', key='November/')\n",
      "s3.ObjectSummary(bucket_name='koustoudis1-s3', key='November/Ioannis_Koustoudis1.jpg')\n",
      "s3.ObjectSummary(bucket_name='koustoudis1-s3', key='noe')\n"
     ]
    }
   ],
   "source": [
    "for object in mybucket.objects.all():\n",
    "    print(object)"
   ]
  },
  {
   "cell_type": "markdown",
   "metadata": {},
   "source": [
    "# downloads a file from s3 bucket to the local directory"
   ]
  },
  {
   "cell_type": "code",
   "execution_count": 6,
   "metadata": {},
   "outputs": [],
   "source": [
    "s3.Bucket('koustoudis1-s3').download_file('2018-11-09_Alteryx.json', 'myjson.json')"
   ]
  },
  {
   "cell_type": "code",
   "execution_count": 9,
   "metadata": {},
   "outputs": [],
   "source": [
    "with open('myjson.json','r') as f:\n",
    "    text = f.read()"
   ]
  },
  {
   "cell_type": "code",
   "execution_count": 11,
   "metadata": {},
   "outputs": [
    {
     "name": "stdout",
     "output_type": "stream",
     "text": [
      "€\u0003X\u0018\u0000\u0000\u0000{\"AlteryxUpTime\": 457.0}q\u0000.\n"
     ]
    }
   ],
   "source": [
    "print(text)"
   ]
  },
  {
   "cell_type": "code",
   "execution_count": 12,
   "metadata": {},
   "outputs": [],
   "source": [
    "#-----------------------------------------------"
   ]
  }
 ],
 "metadata": {
  "kernelspec": {
   "display_name": "Python 3",
   "language": "python",
   "name": "python3"
  },
  "language_info": {
   "codemirror_mode": {
    "name": "ipython",
    "version": 3
   },
   "file_extension": ".py",
   "mimetype": "text/x-python",
   "name": "python",
   "nbconvert_exporter": "python",
   "pygments_lexer": "ipython3",
   "version": "3.7.0"
  }
 },
 "nbformat": 4,
 "nbformat_minor": 2
}
