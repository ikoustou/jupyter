{
 "cells": [
  {
   "cell_type": "code",
   "execution_count": 1,
   "metadata": {},
   "outputs": [],
   "source": [
    "from pptx import Presentation"
   ]
  },
  {
   "cell_type": "code",
   "execution_count": 5,
   "metadata": {},
   "outputs": [],
   "source": [
    "prs = Presentation('A3 XP8324_Results_MS_PGM test DW1192 Example of A3 based on XP.pptx')"
   ]
  },
  {
   "cell_type": "code",
   "execution_count": 35,
   "metadata": {},
   "outputs": [
    {
     "name": "stdout",
     "output_type": "stream",
     "text": [
      "26\n",
      "PGM-Testing: UREA SWINGS on DW3136-only\n",
      "\n",
      "Type\n",
      "Formulation\n",
      "Technology\n",
      "Size (“)\n",
      "PGM (g/ft3)\n",
      "Condition\n",
      "DOC\n",
      "RH3879 (DW1192)\n",
      "DOC\n",
      "10.5 x 4 400/4\n",
      "32(2:1)\n",
      "fresh\n",
      "SCR\n",
      "DW3136\n",
      "CuZ\n",
      "10.5 x 6\n",
      "300/5\n",
      "-\n",
      "fresh\n",
      "\n",
      "\n",
      "\n",
      "\n",
      "\n",
      "\n",
      "\n",
      "\n",
      " RESULTS:  XP8324 PGM test for DW1192 - to prove DW1192 for Pt volatilization\n",
      "Authors:  K. Cole, L. Hofmann, M. Schäfer   Customer: JM internal   Programme: XP8324   Date: 22.03.18 – 16.04.18\n",
      "Objective: As known from former projects, it is critical to use a DOC without a Pt trap in front of a SCRF. Therefore DW1163 was proposed to customers, however this DOC was found to be unfavourable in terms of production. It was already shown that the alternative DW1192, derived from DW1163, performs exactly same regarding NO conversion. To prove the Pt stability of the modified DOC DW1192, this test follows an earlier applied procedure which is known to enable discrimination of DOCs for Pt migration.\n",
      "\n",
      "\n",
      "\n",
      "\n",
      "Setup for ageing\n",
      "Based on the urea swings on DW3136 after 225 hours ageing of DW1192 no evidence for PGM migration from the DOC onto the SCR could be seen\n",
      "All results shown are after\n",
      "\n",
      "AGEING RUN\n",
      "\n",
      "Total runtime \n",
      "225 hours \n",
      "(150 cycles, each 1.5h)\n",
      "\n",
      "HC-injection for \n",
      "83 hours \n",
      "(33min per cycle)\n",
      "\n",
      "AGEING CYCLE\n",
      "Setup for PGM testing\n",
      "HC-DOC-outlet during HC-dosing: 6.2 ml/min\n",
      "SUMMARY AND CONCLUSIONS\n",
      "After ageing NOx-conversion on DW3136 in normal and reversed direction at all temperatures almost equal\n",
      "similar decrease of CO over DW3136 for both directions at all temperatures\n",
      "NOx-conversion on DW1192+DW3136 over ageing duration at 500°C (results not shown):\n",
      "\n",
      "almost no drop of NOx-conversion \n",
      "NO2/NOx decreased from 12 to 8% and N2O at tailpipe by a few ppm\n",
      "x10\n",
      "PGM-Testing: CO-conversion on DW3136-only\n",
      "\n"
     ]
    }
   ],
   "source": [
    "for slide in prs.slides:\n",
    "    print(len(slide.shapes))\n",
    "    i=0\n",
    "    for shape in slide.shapes:\n",
    "        if shape.has_text_frame:\n",
    "            print(shape.text)\n",
    "        if shape.has_table:\n",
    "            \n",
    "            for r in range(len(shape.table.rows)) :\n",
    "                for c in range(len(shape.table.columns)):\n",
    "                    \n",
    "                    print(shape.table.cell(r,c).text)\n"
   ]
  },
  {
   "cell_type": "code",
   "execution_count": 36,
   "metadata": {},
   "outputs": [],
   "source": [
    "extractedtext=''\n",
    "for slide in prs.slides:\n",
    "    for shape in slide.shapes:\n",
    "        if shape.has_text_frame:\n",
    "            extractedtext = extractedtext+' '+shape.text\n",
    "        if shape.has_table:          \n",
    "            for r in range(len(shape.table.rows)) :\n",
    "                for c in range(len(shape.table.columns)):\n",
    "                    extractedtext = extractedtext+' '+shape.table.cell(r,c).text"
   ]
  },
  {
   "cell_type": "code",
   "execution_count": 37,
   "metadata": {},
   "outputs": [
    {
     "name": "stdout",
     "output_type": "stream",
     "text": [
      " PGM-Testing: UREA SWINGS on DW3136-only  Type Formulation Technology Size (“) PGM (g/ft3) Condition DOC RH3879 (DW1192) DOC 10.5 x 4 400/4 32(2:1) fresh SCR DW3136 CuZ 10.5 x 6\n",
      "300/5 - fresh \n",
      "\n",
      "\n",
      "\n",
      "\n",
      "\n",
      "\n",
      "  RESULTS:  XP8324 PGM test for DW1192 - to prove DW1192 for Pt volatilization Authors:  K. Cole, L. Hofmann, M. Schäfer   Customer: JM internal   Programme: XP8324   Date: 22.03.18 – 16.04.18 Objective: As known from former projects, it is critical to use a DOC without a Pt trap in front of a SCRF. Therefore DW1163 was proposed to customers, however this DOC was found to be unfavourable in terms of production. It was already shown that the alternative DW1192, derived from DW1163, performs exactly same regarding NO conversion. To prove the Pt stability of the modified DOC DW1192, this test follows an earlier applied procedure which is known to enable discrimination of DOCs for Pt migration.\n",
      "\n",
      "\n",
      "  Setup for ageing Based on the urea swings on DW3136 after 225 hours ageing of DW1192 no evidence for PGM migration from the DOC onto the SCR could be seen All results shown are after\n",
      "\n",
      "AGEING RUN\n",
      "\n",
      "Total runtime \n",
      "225 hours \n",
      "(150 cycles, each 1.5h)\n",
      "\n",
      "HC-injection for \n",
      "83 hours \n",
      "(33min per cycle)  AGEING CYCLE Setup for PGM testing HC-DOC-outlet during HC-dosing: 6.2 ml/min SUMMARY AND CONCLUSIONS\n",
      "After ageing NOx-conversion on DW3136 in normal and reversed direction at all temperatures almost equal\n",
      "similar decrease of CO over DW3136 for both directions at all temperatures\n",
      "NOx-conversion on DW1192+DW3136 over ageing duration at 500°C (results not shown):  almost no drop of NOx-conversion \n",
      "NO2/NOx decreased from 12 to 8% and N2O at tailpipe by a few ppm x10 PGM-Testing: CO-conversion on DW3136-only \n"
     ]
    }
   ],
   "source": [
    "print(extractedtext)"
   ]
  },
  {
   "cell_type": "code",
   "execution_count": null,
   "metadata": {},
   "outputs": [],
   "source": []
  }
 ],
 "metadata": {
  "kernelspec": {
   "display_name": "Python 3",
   "language": "python",
   "name": "python3"
  },
  "language_info": {
   "codemirror_mode": {
    "name": "ipython",
    "version": 3
   },
   "file_extension": ".py",
   "mimetype": "text/x-python",
   "name": "python",
   "nbconvert_exporter": "python",
   "pygments_lexer": "ipython3",
   "version": "3.7.0"
  }
 },
 "nbformat": 4,
 "nbformat_minor": 2
}
